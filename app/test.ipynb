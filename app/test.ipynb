{
 "cells": [
  {
   "cell_type": "code",
   "execution_count": 8,
   "metadata": {},
   "outputs": [
    {
     "name": "stdout",
     "output_type": "stream",
     "text": [
      "{'message': 'Successfully uploaded invoice statement', 'id': 19}\n"
     ]
    }
   ],
   "source": [
    "import requests\n",
    "\n",
    "url = \"https://f8fd-175-101-104-21.ngrok-free.app/1/uploads/upload\"\n",
    "file_path = \"C:/Users/laksh/Downloads/git/tally-integration/samples/sample_scripts/Laptop.pdf\"\n",
    "file_type = \"invoice\"\n",
    "uuid = \"f81d4fae-7dec-11d0-a765-00a0c91e6b78\"\n",
    "\n",
    "files = {\"file\": open(file_path, \"rb\")}\n",
    "data = {\n",
    "    \"file_type\": file_type,\n",
    "    \"uuid\": uuid\n",
    "}\n",
    "\n",
    "response = requests.post(url, files=files, data=data)\n",
    "print(response.json())"
   ]
  }
 ],
 "metadata": {
  "kernelspec": {
   "display_name": "lakshman",
   "language": "python",
   "name": "python3"
  },
  "language_info": {
   "codemirror_mode": {
    "name": "ipython",
    "version": 3
   },
   "file_extension": ".py",
   "mimetype": "text/x-python",
   "name": "python",
   "nbconvert_exporter": "python",
   "pygments_lexer": "ipython3",
   "version": "3.11.8"
  }
 },
 "nbformat": 4,
 "nbformat_minor": 2
}
